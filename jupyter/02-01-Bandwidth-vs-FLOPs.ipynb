{
 "cells": [
  {
   "cell_type": "code",
   "execution_count": null,
   "metadata": {},
   "outputs": [],
   "source": [
    "import pandas as pd\n",
    "import matplotlib\n",
    "import matplotlib.pyplot as plt"
   ]
  },
  {
   "cell_type": "code",
   "execution_count": null,
   "metadata": {},
   "outputs": [],
   "source": [
    "tab10 = matplotlib.cm.get_cmap('tab10')\n",
    "BLUE = tab10(0.05)\n",
    "GREY = tab10(0.75)\n",
    "YELLOW = tab10(0.85)"
   ]
  },
  {
   "cell_type": "code",
   "execution_count": null,
   "metadata": {},
   "outputs": [],
   "source": [
    "# Read data from file\n",
    "AMD = pd.read_csv('cpu-gpu-mic-comparison/data-amd.txt')\n",
    "INTEL = pd.read_csv('cpu-gpu-mic-comparison/data-intel.txt')\n",
    "NVIDIA = pd.read_csv('cpu-gpu-mic-comparison/data-nvidia.txt')"
   ]
  },
  {
   "cell_type": "code",
   "execution_count": null,
   "metadata": {},
   "outputs": [],
   "source": [
    "# FLOPs\n",
    "AMD_flops = [flops for flops in AMD[\"GFLOPs-DP\"]]\n",
    "NVIDIA_flops = [flops for flops in NVIDIA[\"GFLOPs\"]]\n",
    "INTEL_flops = [flops for flops in INTEL[\"GFLOPs-DP\"]]\n",
    "\n",
    "# Bandwidth\n",
    "AMD_bandwidth = [bw for bw in AMD[\"Mem-BW\"]]\n",
    "NVIDIA_bandwidth = [bw for bw in NVIDIA[\"Mem-BW\"]]\n",
    "INTEL_bandwidth = [bw for bw in INTEL[\"Mem-BW/Socket\"]]\n",
    "\n",
    "# Ratio\n",
    "AMD_ratio = [bandwidth / flops for (flops, bandwidth) in zip(AMD_flops, AMD_bandwidth)]\n",
    "NVIDIA_ratio = [bandwidth / flops for (flops, bandwidth) in zip(NVIDIA_flops, NVIDIA_bandwidth)]\n",
    "INTEL_ratio = [bandwidth / flops for (flops, bandwidth) in zip(INTEL_flops, INTEL_bandwidth)]\n",
    "\n",
    "# Range\n",
    "AMD_years = [year for year in AMD[\"Year\"]]\n",
    "NVIDIA_years = [year for year in NVIDIA[\"Year\"]]\n",
    "INTEL_years = [year for year in INTEL[\"Year\"]]"
   ]
  },
  {
   "cell_type": "code",
   "execution_count": null,
   "metadata": {},
   "outputs": [],
   "source": [
    "# Plot FLOPs vs Bandwidth\n",
    "fig, ax1 = plt.subplots(figsize=(10, 8))\n",
    "\n",
    "ax1.set_ylabel('FLOPs', fontsize=22)\n",
    "ax1.set_yscale('log')\n",
    "ax1.set_ylim([1, 10**4])\n",
    "ax1.tick_params(labelsize=20)\n",
    "\n",
    "ax1.set_xlim([2007, 2018])\n",
    "ax1.set_xlabel('Year of Release', fontsize=22)\n",
    "\n",
    "ax2 = ax1.twinx()\n",
    "ax2.set_ylabel('GB per sec', fontsize=22)\n",
    "ax2.set_yscale('log')\n",
    "ax2.set_ylim([1, 10**4])\n",
    "ax2.tick_params(labelsize=20)\n",
    "\n",
    "ax1.plot(AMD_years, AMD_flops, label='AMD FLOPs', marker='o', markersize=10, color=YELLOW)\n",
    "ax2.plot(AMD_years, AMD_bandwidth, label='AMD Bandwidth', marker='o', markersize=10, color=YELLOW, linestyle='dashed')\n",
    "ax1.plot(NVIDIA_years, NVIDIA_flops, label='NVIDIA FLOPs', marker='X', markersize=10, color=GREY)\n",
    "ax2.plot(NVIDIA_years, NVIDIA_bandwidth, label='NVIDIA Bandwidth', marker='X', markersize=10, color=GREY, linestyle='dashed')\n",
    "ax1.plot(INTEL_years, INTEL_flops, label='Intel FLOPs', marker='s', markersize=10, color=BLUE)\n",
    "ax2.plot(INTEL_years, INTEL_bandwidth, label='Intel Bandwidth', marker='s', markersize=10, color=BLUE, linestyle='dashed')\n",
    "\n",
    "ax1.spines['top'].set_visible(False)\n",
    "ax2.spines['top'].set_visible(False)\n",
    "ax1.grid(color='lightgrey')\n",
    "\n",
    "fig.legend(fontsize=20, loc=[0.43,0.12])\n",
    "ax1.set_title('Theoretical Peak FLOPs and Bandwidth', fontsize=24)\n",
    "plt.savefig(\"peakFlopsAndBandwidth\")"
   ]
  },
  {
   "cell_type": "code",
   "execution_count": null,
   "metadata": {},
   "outputs": [],
   "source": [
    "# Plot Ratio of FLOPs to Bandwidth\n",
    "fig, ax1 = plt.subplots(figsize=(10, 8))\n",
    "\n",
    "plt.xlim([2007, 2018])\n",
    "\n",
    "plt.plot(AMD_years, AMD_ratio, label='AMD', marker='o', markersize=10, color=YELLOW)\n",
    "plt.plot(NVIDIA_years, NVIDIA_ratio, label='NVIDIA', marker='X', markersize=10, color=GREY)\n",
    "plt.plot(INTEL_years, INTEL_ratio, label='Intel', marker='s', markersize=10, color=BLUE)\n",
    "\n",
    "ax1.spines['top'].set_visible(False)\n",
    "ax1.spines['right'].set_visible(False)\n",
    "ax1.grid(color='lightgrey')\n",
    "\n",
    "plt.legend(fontsize=20)\n",
    "plt.tick_params(labelsize=20)\n",
    "plt.title('Ratio of Bandwith to FLOPs', fontsize=26)\n",
    "plt.ylabel('GB per sec/GFLOPs', fontsize=24)\n",
    "plt.xlabel('Year of Release', fontsize=24)\n",
    "plt.savefig(\"peakRatio\")"
   ]
  }
 ],
 "metadata": {
  "kernelspec": {
   "display_name": "Python 3",
   "language": "python",
   "name": "python3"
  },
  "language_info": {
   "codemirror_mode": {
    "name": "ipython",
    "version": 3
   },
   "file_extension": ".py",
   "mimetype": "text/x-python",
   "name": "python",
   "nbconvert_exporter": "python",
   "pygments_lexer": "ipython3",
   "version": "3.8.5"
  }
 },
 "nbformat": 4,
 "nbformat_minor": 4
}
