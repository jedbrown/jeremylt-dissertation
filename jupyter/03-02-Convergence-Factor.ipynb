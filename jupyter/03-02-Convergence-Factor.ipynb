{
 "cells": [
  {
   "cell_type": "code",
   "execution_count": null,
   "metadata": {},
   "outputs": [],
   "source": [
    "import numpy as np\n",
    "import matplotlib\n",
    "import matplotlib.pyplot as plt"
   ]
  },
  {
   "cell_type": "code",
   "execution_count": null,
   "metadata": {},
   "outputs": [],
   "source": [
    "tab10 = matplotlib.cm.get_cmap('tab10')\n",
    "BLUE = tab10(0.05)\n",
    "GREY = tab10(0.75)\n",
    "YELLOW = tab10(0.85)"
   ]
  },
  {
   "cell_type": "code",
   "execution_count": null,
   "metadata": {
    "code_folding": [
     5,
     37
    ]
   },
   "outputs": [],
   "source": [
    "steps = range(0, 41, 10)\n",
    "rate_9 = [0.9**n for n in steps]\n",
    "rate_7 = [0.7**n for n in steps]\n",
    "rate_5 = [0.5**n for n in steps]\n",
    "rate_3 = [0.3**n for n in steps]\n",
    "rate_1 = [0.1**n for n in steps]"
   ]
  },
  {
   "cell_type": "code",
   "execution_count": null,
   "metadata": {},
   "outputs": [],
   "source": [
    "# Plot convergence rates\n",
    "fig, ax1 = plt.subplots(figsize=(10, 8))\n",
    "\n",
    "plt.xlim(0, 35)\n",
    "plt.ylim(1E-5, 1)\n",
    "\n",
    "plt.plot(steps, rate_9, label='0.9', marker='', markersize=10, color=BLUE)\n",
    "plt.plot(steps, rate_7, label='0.7', marker='', markersize=10, color=YELLOW, linestyle='dashed')\n",
    "plt.plot(steps, rate_5, label='0.5', marker='', markersize=10, color=GREY)\n",
    "plt.plot(steps, rate_3, label='0.3', marker='', markersize=10, color=BLUE, linestyle='dashed')\n",
    "plt.plot(steps, rate_1, label='0.1', marker='', markersize=10, color=YELLOW)\n",
    "\n",
    "ax1.set_yscale('log')\n",
    "ax1.spines['top'].set_visible(False)\n",
    "ax1.spines['right'].set_visible(False)\n",
    "ax1.grid(color='lightgrey')\n",
    "\n",
    "plt.legend(fontsize=18)\n",
    "plt.tick_params(labelsize=20)\n",
    "plt.title('Convergence Factors', fontsize=24)\n",
    "plt.ylabel('Error Reduction', fontsize=22)\n",
    "plt.xlabel('Number of Iterations', fontsize=22)\n",
    "plt.savefig(\"convergenceFactors\", bbox_inches='tight')"
   ]
  },
  {
   "cell_type": "code",
   "execution_count": null,
   "metadata": {},
   "outputs": [],
   "source": [
    "rates = [0.9, 0.7, 0.5, 0.3, 0.1]\n",
    "steps_1 =  [np.log(1E-1)/np.log(p) for p in rates]\n",
    "steps_5 =  [np.log(1E-5)/np.log(p) for p in rates]\n",
    "steps_10 = [np.log(1E-10)/np.log(p) for p in rates]\n",
    "steps_15 = [np.log(1E-15)/np.log(p) for p in rates]"
   ]
  }
 ],
 "metadata": {
  "kernelspec": {
   "display_name": "Python 3",
   "language": "python",
   "name": "python3"
  },
  "language_info": {
   "codemirror_mode": {
    "name": "ipython",
    "version": 3
   },
   "file_extension": ".py",
   "mimetype": "text/x-python",
   "name": "python",
   "nbconvert_exporter": "python",
   "pygments_lexer": "ipython3",
   "version": "3.8.10"
  }
 },
 "nbformat": 4,
 "nbformat_minor": 4
}
