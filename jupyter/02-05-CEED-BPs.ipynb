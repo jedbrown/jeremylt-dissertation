{
 "cells": [
  {
   "cell_type": "code",
   "execution_count": null,
   "metadata": {},
   "outputs": [],
   "source": [
    "from postprocess_base import read_logs\n",
    "import altair as alt\n",
    "from glob import glob\n",
    "\n",
    "runs = read_logs(glob('benchmarks/*blocked*.txt'))\n",
    "runs['FE_nodes_per_compute_node'] = runs['num_unknowns'] / (runs['num_procs'] / runs['num_procs_node']) / runs['dof_per_node']\n",
    "runs.head()"
   ]
  },
  {
   "cell_type": "code",
   "execution_count": null,
   "metadata": {
    "code_folding": [
     23,
     25,
     29,
     35
    ]
   },
   "outputs": [],
   "source": [
    "highlight = alt.selection_single(\n",
    "    on='mouseover',\n",
    "    fields=['degree', 'time_per_it', 'backend'],\n",
    "    nearest=True,\n",
    "    empty='none',\n",
    ")\n",
    "\n",
    "bps_select = alt.selection_single(\n",
    "    fields=['bp'],\n",
    ")\n",
    "\n",
    "base = alt.Chart(runs).encode(\n",
    "    alt.Y('mdofs:Q', title='MDoF/s per CG iteration'),\n",
    "    alt.Color('degree:N'),\n",
    "    alt.Size('num_unknowns', scale=alt.Scale(type='log', domain=(1e3, 1e6))),\n",
    "    alt.Shape('bp:N'),\n",
    "    tooltip=('bp', 'num_procs', 'backend', 'num_elem', 'degree', 'num_unknowns', 'file'),\n",
    ").transform_filter(\n",
    "    bps_select,\n",
    ").transform_calculate(\n",
    "    mdofs='datum.cg_iteration_dps/1e6',\n",
    ")\n",
    "\n",
    "points = base.mark_point().encode(\n",
    "    opacity=alt.condition(highlight, alt.value(1), alt.value(.5)),\n",
    ").add_selection(\n",
    "    highlight,\n",
    ")\n",
    "\n",
    "lines = base.mark_line().encode(\n",
    "    size=alt.condition(alt.datum.degree - highlight.degree == 0, alt.value(2), alt.value(1))\n",
    ")\n",
    "\n",
    "pane = points + lines\n",
    "\n",
    "composite = (\n",
    "    pane.encode(\n",
    "        alt.X('time_per_it', scale=alt.Scale(type='log'), title='Time per Iteration'),\n",
    "    ) |\n",
    "    pane.encode(\n",
    "        alt.X('FE_nodes_per_compute_node', scale=alt.Scale(type='log', domain=(3e4, 1e7), clamp=True), title='FE Nodes per Compute Node'),\n",
    "    )\n",
    ")\n",
    "\n",
    "activator = alt.Chart(runs).mark_point().encode(\n",
    "    alt.Y('bp', title='BP'),\n",
    "    alt.Shape('bp')\n",
    ").add_selection(bps_select).properties(title='Selection')\n",
    "\n",
    "activator | composite.properties(title='CEED BP1 - Noether (2x EPYC 7452), gcc-10')"
   ]
  }
 ],
 "metadata": {
  "kernelspec": {
   "display_name": "Python 3",
   "language": "python",
   "name": "python3"
  },
  "language_info": {
   "codemirror_mode": {
    "name": "ipython",
    "version": 3
   },
   "file_extension": ".py",
   "mimetype": "text/x-python",
   "name": "python",
   "nbconvert_exporter": "python",
   "pygments_lexer": "ipython3",
   "version": "3.8.10"
  }
 },
 "nbformat": 4,
 "nbformat_minor": 4
}
