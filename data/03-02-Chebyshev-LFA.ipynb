{
 "cells": [
  {
   "cell_type": "code",
   "execution_count": null,
   "metadata": {},
   "outputs": [],
   "source": [
    "using LFAToolkit\n",
    "using LinearAlgebra\n",
    "using Plots"
   ]
  },
  {
   "cell_type": "code",
   "execution_count": null,
   "metadata": {},
   "outputs": [],
   "source": [
    "# 1D Setup\n",
    "p = 5\n",
    "dimension = 1\n",
    "mesh = Mesh1D(1.0)\n",
    "diffusion = GalleryOperator(\"diffusion\", p, p, mesh)\n",
    "chebyshev = Chebyshev(diffusion)"
   ]
  },
  {
   "cell_type": "code",
   "execution_count": null,
   "metadata": {},
   "outputs": [],
   "source": [
    "# compute full operator symbols\n",
    "numberruns = 250\n",
    "θ_min = -π/2\n",
    "θ_max = 3π/2\n",
    "ω = [3]\n",
    "\n",
    "# compute and plot smoothing factor\n",
    "# -- compute\n",
    "maxeigenvalues = zeros(numberruns)\n",
    "for i in 1:numberruns\n",
    "    θ = [θ_min + (θ_max - θ_min)*i/numberruns]\n",
    "    A = computesymbols(chebyshev, ω, θ)\n",
    "    eigenvalues = [abs(val) for val in eigvals(A)]\n",
    "    maxeigenvalues[i] = max(eigenvalues...)\n",
    "end\n",
    "\n",
    "# -- plot\n",
    "xrange = θ_min/π:(θ_max - θ_min)/π/(numberruns-1):θ_max/π\n",
    "plot(\n",
    "    xrange,\n",
    "    xlabel=\"θ/π\",\n",
    "    xtickfont=font(12, \"Courier\"),\n",
    "    maxeigenvalues,\n",
    "    ytickfont=font(12, \"Courier\"),\n",
    "    ylabel=\"spectral radius\",\n",
    "    linewidth=3,\n",
    "    legend=:none,\n",
    "    title=\"1D Chebyshev Preconditioner Symbol\",\n",
    "    color=palette(:tab10)[1]\n",
    ")\n",
    "ylims!(0.0, max(maxeigenvalues...) * 1.1)"
   ]
  },
  {
   "cell_type": "code",
   "execution_count": null,
   "metadata": {},
   "outputs": [],
   "source": [
    "savefig(\"ChebyshevSymbol1D\")"
   ]
  },
  {
   "cell_type": "code",
   "execution_count": null,
   "metadata": {},
   "outputs": [],
   "source": [
    "# 2D Setup\n",
    "p = 5\n",
    "dimension = 2\n",
    "mesh = Mesh2D(1.0, 1.0)\n",
    "diffusion = GalleryOperator(\"diffusion\", p, p, mesh)\n",
    "chebyshev = Chebyshev(diffusion)"
   ]
  },
  {
   "cell_type": "code",
   "execution_count": null,
   "metadata": {},
   "outputs": [],
   "source": [
    "# compute full operator symbols\n",
    "numberruns = 250\n",
    "θ_min = -π/2\n",
    "θ_max = 3π/2\n",
    "ω = [3]\n",
    "\n",
    "# compute and plot smoothing factor\n",
    "# -- compute\n",
    "maxeigenvalues = zeros(numberruns, numberruns)\n",
    "for i in 1:numberruns, j in 1:numberruns\n",
    "    θ = [\n",
    "        θ_min + (θ_max - θ_min)*i/numberruns,\n",
    "        θ_min + (θ_max - θ_min)*j/numberruns\n",
    "    ]\n",
    "    A = computesymbols(chebyshev, ω, θ)\n",
    "    eigenvalues = [abs(val) for val in eigvals(A)]\n",
    "    maxeigenvalues[i, j] = max(eigenvalues...)\n",
    "end\n",
    "\n",
    "# -- plot\n",
    "xrange = θ_min/π:(θ_max - θ_min)/π/(numberruns-1):θ_max/π\n",
    "heatmap(\n",
    "    xrange,\n",
    "    xlabel=\"θ/π\",\n",
    "    xtickfont=font(12, \"Courier\"),\n",
    "    xrange,\n",
    "    ylabel=\"θ/π\",\n",
    "    maxeigenvalues,\n",
    "    ytickfont=font(12, \"Courier\"),\n",
    "    title=\"2D Chebyshev Preconditioner Symbol\",\n",
    "    transpose=true,\n",
    "    aspect_ratio=:equal,\n",
    "    color=:cividis\n",
    ")\n",
    "xlims!(θ_min/π, θ_max/π)\n",
    "ylims!(θ_min/π, θ_max/π)"
   ]
  },
  {
   "cell_type": "code",
   "execution_count": null,
   "metadata": {},
   "outputs": [],
   "source": [
    "savefig(\"ChebyshevSymbol2D\")"
   ]
  }
 ],
 "metadata": {
  "kernelspec": {
   "display_name": "Julia 1.5.2",
   "language": "julia",
   "name": "julia-1.5"
  },
  "language_info": {
   "file_extension": ".jl",
   "mimetype": "application/julia",
   "name": "julia",
   "version": "1.5.2"
  }
 },
 "nbformat": 4,
 "nbformat_minor": 4
}
