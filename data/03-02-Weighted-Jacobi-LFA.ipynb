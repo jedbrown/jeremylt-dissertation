{
 "cells": [
  {
   "cell_type": "code",
   "execution_count": null,
   "metadata": {},
   "outputs": [],
   "source": [
    "using LFAToolkit\n",
    "using LinearAlgebra\n",
    "using Plots"
   ]
  },
  {
   "cell_type": "code",
   "execution_count": null,
   "metadata": {},
   "outputs": [],
   "source": [
    "# 1D Setup\n",
    "p = 5\n",
    "dimension = 1\n",
    "mesh = Mesh1D(1.0)\n",
    "diffusion = GalleryOperator(\"diffusion\", p, p, mesh)\n",
    "jacobi = Jacobi(diffusion)"
   ]
  },
  {
   "cell_type": "code",
   "execution_count": null,
   "metadata": {},
   "outputs": [],
   "source": [
    "# compute full operator symbols\n",
    "numberruns = 250\n",
    "numberruns_ω = 100\n",
    "θ_min = -π/2\n",
    "θ_max = 3π/2\n",
    "ω_min = 0.0\n",
    "ω_max = 1.15\n",
    "\n",
    "# compute and plot smoothing factor\n",
    "# -- compute\n",
    "maxeigenvalues = zeros(numberruns_ω)\n",
    "for i in 1:numberruns, j in 1:numberruns_ω\n",
    "    θ = [θ_min + (θ_max - θ_min)*i/numberruns]\n",
    "    ω = [ω_min + (ω_max - ω_min)*j/numberruns_ω]\n",
    "    A = computesymbols(jacobi, ω, θ)\n",
    "    eigenvalues = [abs(val) for val in eigvals(A)]\n",
    "    maxeigenvalues[j] = max(maxeigenvalues[j], eigenvalues...)\n",
    "end\n",
    "\n",
    "# -- plot\n",
    "xrange = ω_min:(ω_max - ω_min)/(numberruns_ω-1):ω_max\n",
    "plot(\n",
    "    xrange,\n",
    "    xlabel=\"ω\",\n",
    "    xtickfont=font(12, \"Courier\"),\n",
    "    maxeigenvalues,\n",
    "    ytickfont=font(12, \"Courier\"),\n",
    "    ylabel=\"spectral radius\",\n",
    "    linewidth=3,\n",
    "    legend=:none,\n",
    "    title=\"1D Weighted Jacobi Preconditioner Symbol\",\n",
    "    color=palette(:tab10)[1]\n",
    ")\n",
    "ylims!(0.0, max(maxeigenvalues...) * 1.1)"
   ]
  },
  {
   "cell_type": "code",
   "execution_count": null,
   "metadata": {},
   "outputs": [],
   "source": [
    "savefig(\"weightedJacobiSymbol1D\")"
   ]
  },
  {
   "cell_type": "code",
   "execution_count": null,
   "metadata": {},
   "outputs": [],
   "source": [
    "# 2D Setup\n",
    "p = 5\n",
    "dimension = 2\n",
    "mesh = Mesh2D(1.0, 1.0)\n",
    "diffusion = GalleryOperator(\"diffusion\", p, p, mesh)\n",
    "jacobi = Jacobi(diffusion)"
   ]
  },
  {
   "cell_type": "code",
   "execution_count": null,
   "metadata": {},
   "outputs": [],
   "source": [
    "# compute full operator symbols\n",
    "numberruns = 150\n",
    "numberruns_ω = 100\n",
    "θ_min = -π/2\n",
    "θ_max = 3π/2\n",
    "ω_min = 0.0\n",
    "ω_max = 1.15\n",
    "\n",
    "# compute and plot smoothing factor\n",
    "# -- compute\n",
    "maxeigenvalues = zeros(numberruns_ω)\n",
    "for i in 1:numberruns, j in 1:numberruns, k in 1:numberruns_ω\n",
    "    θ = [\n",
    "        θ_min + (θ_max - θ_min)*i/numberruns,\n",
    "        θ_min + (θ_max - θ_min)*j/numberruns\n",
    "    ]\n",
    "    ω = [ω_min + (ω_max - ω_min)*k/numberruns_ω]\n",
    "    A = computesymbols(jacobi, ω, θ)\n",
    "    eigenvalues = [abs(val) for val in eigvals(A)]\n",
    "    maxeigenvalues[k] = max(maxeigenvalues[k], eigenvalues...)\n",
    "end\n",
    "\n",
    "# -- plot\n",
    "xrange = ω_min:(ω_max - ω_min)/(numberruns_ω-1):ω_max\n",
    "plot(\n",
    "    xrange,\n",
    "    xlabel=\"ω\",\n",
    "    xtickfont=font(12, \"Courier\"),\n",
    "    maxeigenvalues,\n",
    "    ytickfont=font(12, \"Courier\"),\n",
    "    ylabel=\"spectral radius\",\n",
    "    linewidth=3,\n",
    "    legend=:none,\n",
    "    title=\"2D Weighted Jacobi Preconditioner Symbol\",\n",
    "    color=palette(:tab10)[1]\n",
    ")\n",
    "ylims!(0.0, max(maxeigenvalues...) * 1.1)"
   ]
  },
  {
   "cell_type": "code",
   "execution_count": null,
   "metadata": {},
   "outputs": [],
   "source": [
    "savefig(\"weightedJacobiSymbol2D\")"
   ]
  }
 ],
 "metadata": {
  "kernelspec": {
   "display_name": "Julia 1.5.2",
   "language": "julia",
   "name": "julia-1.5"
  },
  "language_info": {
   "file_extension": ".jl",
   "mimetype": "application/julia",
   "name": "julia",
   "version": "1.5.2"
  }
 },
 "nbformat": 4,
 "nbformat_minor": 4
}
